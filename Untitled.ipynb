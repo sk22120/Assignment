{
 "cells": [
  {
   "cell_type": "markdown",
   "id": "34987134-1bac-4815-b078-80c8d697900d",
   "metadata": {},
   "source": [
    "Q1. What all the conventions being followed while declaring a variable.\n",
    "\n",
    "ANS:*A variable name must start with a letter or the underscore character\n",
    "*A variable name cannot start with a number\n",
    "*A variable name can only contain alpha-numeric characters and underscores (A-z, 0-9, and _ )\n",
    "*Variable names are case-sensitive (age, Age and AGE are three different variables)\n",
    "\n",
    "\n",
    "Q2. What will happen If we declare a restricted keyword as a variable?\n",
    "\n",
    "ANS: We Will get a syntax error.\n",
    "\n",
    "\n",
    "Q3. Can we actually declare a string as a variable name?\n",
    "\n",
    "ANS: No we cannot declare a string as a variable in python\n",
    "\n",
    "Q4. Is it possible to declare \"_\" as a variable ? if so then write an example of it\n",
    "\n",
    "ANS: Yes it is possible.\n",
    "example\n",
    "# Using \"_\" as a throwaway variable\n",
    "for _ in range(5):\n",
    "    print(\"Hello\")\n",
    "\n",
    "# Using \"_\" as a placeholder\n",
    "result = calculate_some_value()\n",
    "_, important_part = result\n",
    "\n",
    "Q5. Using an example, explain how the variables in python are dynamic in nature?\n",
    "\n",
    "ANS: In Python, variables are dynamic in nature, which means their type can change during runtime. Here's an example to illustrate this:\n",
    "# Dynamic variable example\n",
    "x = 10  # Assigning an integer value to x\n",
    "print(x)  # Output: 10\n",
    "\n",
    "x = \"Hello\"  # Assigning a string value to x\n",
    "print(x)  # Output: Hello\n",
    "\n",
    "In the example, the variable x is initially assigned an integer value of 10. However, later in the code, it is reassigned a string value of \"Hello\". Python allows this dynamic behavior, and the variable x now holds the string value.\n",
    "\n",
    "This flexibility enables variables to be used for different purposes and to store different types of data throughout the execution of a program. Python determines the type of a variable based on the value assigned to it at a given point in time, and this type can be changed by assigning a new value of a different type to the variable.\n"
   ]
  }
 ],
 "metadata": {
  "kernelspec": {
   "display_name": "Python 3 (ipykernel)",
   "language": "python",
   "name": "python3"
  },
  "language_info": {
   "codemirror_mode": {
    "name": "ipython",
    "version": 3
   },
   "file_extension": ".py",
   "mimetype": "text/x-python",
   "name": "python",
   "nbconvert_exporter": "python",
   "pygments_lexer": "ipython3",
   "version": "3.10.8"
  }
 },
 "nbformat": 4,
 "nbformat_minor": 5
}
